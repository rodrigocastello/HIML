{
 "cells": [
  {
   "cell_type": "code",
   "execution_count": 1,
   "metadata": {},
   "outputs": [],
   "source": [
    "import numpy as np\n",
    "from scipy import stats\n",
    "import scipy.io as sio\n",
    "from os import getcwd\n",
    "from os.path import join \n",
    "import pandas as pd\n",
    "from scipy.stats.stats import mode\n",
    "from sklearn.model_selection import (train_test_split, RepeatedKFold, RandomizedSearchCV)\n",
    "from sklearn.linear_model import Ridge\n",
    "from sklearn.pipeline import Pipeline\n",
    "from statsmodels.tsa.ar_model import AutoReg\n",
    "from sklearn.decomposition import PCA\n",
    "from sklearn.preprocessing import MinMaxScaler\n",
    "from sklearn.linear_model import LogisticRegression \n",
    "from sklearn import svm\n",
    "from sklearn import neighbors"
   ]
  },
  {
   "cell_type": "code",
   "execution_count": 2,
   "metadata": {},
   "outputs": [
    {
     "data": {
      "text/html": [
       "<div>\n",
       "<style scoped>\n",
       "    .dataframe tbody tr th:only-of-type {\n",
       "        vertical-align: middle;\n",
       "    }\n",
       "\n",
       "    .dataframe tbody tr th {\n",
       "        vertical-align: top;\n",
       "    }\n",
       "\n",
       "    .dataframe thead th {\n",
       "        text-align: right;\n",
       "    }\n",
       "</style>\n",
       "<table border=\"1\" class=\"dataframe\">\n",
       "  <thead>\n",
       "    <tr style=\"text-align: right;\">\n",
       "      <th></th>\n",
       "      <th>0</th>\n",
       "    </tr>\n",
       "  </thead>\n",
       "  <tbody>\n",
       "    <tr>\n",
       "      <th>0</th>\n",
       "      <td>8192</td>\n",
       "    </tr>\n",
       "    <tr>\n",
       "      <th>1</th>\n",
       "      <td>5</td>\n",
       "    </tr>\n",
       "    <tr>\n",
       "      <th>2</th>\n",
       "      <td>850</td>\n",
       "    </tr>\n",
       "    <tr>\n",
       "      <th>3</th>\n",
       "      <td>850</td>\n",
       "    </tr>\n",
       "  </tbody>\n",
       "</table>\n",
       "</div>"
      ],
      "text/plain": [
       "      0\n",
       "0  8192\n",
       "1     5\n",
       "2   850\n",
       "3   850"
      ]
     },
     "execution_count": 2,
     "metadata": {},
     "output_type": "execute_result"
    }
   ],
   "source": [
    "fname = join(getcwd(),'data','data3SS2009.mat')\n",
    "\n",
    "mat_contents = sio.loadmat(fname)\n",
    "\n",
    "dataset = mat_contents['dataset']\n",
    "\n",
    "N, Chno, Nc = dataset.shape\n",
    "# N: number of samples\n",
    "# Chno: number of channels\n",
    "# Nc: number of cases\n",
    "\n",
    "Y = mat_contents['labels'].reshape(Nc)\n",
    "\n",
    "# print sizes \n",
    "pd.DataFrame(np.array([N, Chno, Nc,len(Y)]))"
   ]
  },
  {
   "cell_type": "code",
   "execution_count": 3,
   "metadata": {},
   "outputs": [],
   "source": [
    "# AutoRegression\n",
    "X_ = np.empty((0, 850), float)\n",
    "for i in range(4):\n",
    "    chdata = dataset[:,i+1,:]\n",
    "    ch_corr = []\n",
    "    for j in range(np.shape(chdata)[1]):\n",
    "        res = AutoReg(chdata[:,j],lags=29,old_names=False).fit()\n",
    "        ch_corr.append(res.params)\n",
    "    \n",
    "    X_ = np.append(X_, np.array(ch_corr).transpose() , axis=0)\n",
    "X = np.transpose(X_)\n",
    "\n",
    "# np.shape(X)\n",
    "\n",
    "# pca\n",
    "pca = PCA(random_state=0, whiten=True, n_components=.95)\n",
    "X_pca = pca.fit_transform(X)\n",
    "Xpca_scaled = MinMaxScaler(feature_range=(-1,1)).fit_transform(X_pca)\n",
    "\n",
    "X_train, X_test, Y_train, Y_test = train_test_split(Xpca_scaled,Y,test_size=0.4,random_state=42)  "
   ]
  },
  {
   "cell_type": "markdown",
   "metadata": {},
   "source": [
    "# Models and hyperparameters dictionaries"
   ]
  },
  {
   "cell_type": "code",
   "execution_count": 4,
   "metadata": {},
   "outputs": [],
   "source": [
    "models = []\n",
    "models.append((\"LREG\",LogisticRegression()))\n",
    "models.append((\"SVC\",svm.SVC()))\n",
    "models.append((\"KNN\",neighbors.KNeighborsClassifier()))\n",
    "\n",
    "param_grid = []\n",
    "\n",
    "param_grid.append(\n",
    "    [\n",
    "        {\n",
    "            \"LREG__C\": stats.loguniform(0.1, 100),\n",
    "            \"LREG__solver\": [\"auto\",\"lbfgs\", \"liblinear\",\"saga\"],\n",
    "            \"LREG__multi_class\": [\"auto\",\"ovr\", \"multinomial\"],\n",
    "        }\n",
    "    ]\n",
    ")\n",
    "param_grid.append(\n",
    "    [\n",
    "        {\n",
    "            \"SVC__C\": stats.loguniform(0.1, 1000),\n",
    "            \"SVC__kernel\": [\"linear\", \"poly\",\"rbf\",\"sigmoid\"],\n",
    "            \"SVC__degree\": stats.randint(2,5),\n",
    "            \"SVC__gamma\": stats.loguniform(0.0001,1),\n",
    "        }\n",
    "    ]\n",
    ")\n",
    "param_grid.append(\n",
    "    [\n",
    "        {\n",
    "            \"KNN__n_neighbors\": stats.randint(2,100),\n",
    "            \"KNN__weights\": [\"uniform\", \"distance\"],\n",
    "        }\n",
    "    ]\n",
    ")\n"
   ]
  },
  {
   "cell_type": "markdown",
   "metadata": {},
   "source": [
    "# Hyperparameter search"
   ]
  },
  {
   "cell_type": "markdown",
   "metadata": {},
   "source": [
    "Realizando a busca aleatória com validação cruzada, guardando os resultados de yh para os classificadores padrão e para os classificadores 'otimizados'\n"
   ]
  },
  {
   "cell_type": "code",
   "execution_count": 7,
   "metadata": {},
   "outputs": [
    {
     "name": "stderr",
     "output_type": "stream",
     "text": [
      "C:\\Users\\rodri\\anaconda3\\lib\\site-packages\\sklearn\\model_selection\\_search.py:922: UserWarning: One or more of the test scores are non-finite: [       nan        nan        nan 0.87278431 0.8794902  0.7992549\n",
      "        nan        nan        nan        nan        nan        nan\n",
      " 0.8254902  0.86447059        nan 0.90921569        nan 0.87882353\n",
      " 0.90717647 0.73392157 0.76352941 0.86321569 0.90690196 0.68345098\n",
      "        nan        nan 0.86556863 0.90666667 0.73960784 0.85992157\n",
      " 0.75505882 0.78929412 0.80203922        nan 0.89047059        nan\n",
      "        nan        nan 0.67588235        nan 0.70113725 0.87729412\n",
      " 0.8787451  0.90098039        nan 0.76839216        nan 0.84564706\n",
      " 0.87372549 0.87960784        nan 0.79541176 0.86537255 0.90909804\n",
      " 0.89592157 0.67047059 0.84133333        nan 0.8607451  0.88309804\n",
      "        nan 0.87898039 0.89913725 0.86054902        nan 0.87811765\n",
      " 0.78207843 0.90098039        nan 0.82439216 0.87882353 0.8825098\n",
      "        nan 0.87556863 0.75631373        nan 0.7472549         nan\n",
      " 0.86733333 0.87592157 0.88101961        nan 0.87329412 0.88290196\n",
      "        nan 0.87560784 0.76556863 0.75580392        nan 0.86796078\n",
      " 0.73278431        nan 0.89796078        nan 0.88619608 0.76529412\n",
      " 0.85941176        nan 0.81917647 0.7207451 ]\n",
      "  warnings.warn(\n",
      "C:\\Users\\rodri\\anaconda3\\lib\\site-packages\\sklearn\\linear_model\\_logistic.py:763: ConvergenceWarning: lbfgs failed to converge (status=1):\n",
      "STOP: TOTAL NO. of ITERATIONS REACHED LIMIT.\n",
      "\n",
      "Increase the number of iterations (max_iter) or scale the data as shown in:\n",
      "    https://scikit-learn.org/stable/modules/preprocessing.html\n",
      "Please also refer to the documentation for alternative solver options:\n",
      "    https://scikit-learn.org/stable/modules/linear_model.html#logistic-regression\n",
      "  n_iter_i = _check_optimize_result(\n"
     ]
    }
   ],
   "source": [
    "rkf = RepeatedKFold(n_splits=5,n_repeats=50,random_state=42)\n",
    "scores = np.zeros((np.shape(models)[0],1))\n",
    "scores_std = np.zeros((np.shape(models)[0],1))\n",
    "\n",
    "Res_cols = ['y','yh_LREG','yh_LREG_Opt','yh_SVC','yh_SVC_Opt','yh_KNN','yh_KNN_Opt']\n",
    "Results =  pd.DataFrame([], columns=Res_cols)\n",
    "Results['y'] = Y_test\n",
    "\n",
    "BestParams = []\n",
    "\n",
    "j = 1\n",
    "for i in range(len(models)):\n",
    "    clf=Pipeline([models[i]])\n",
    "    pgrid = param_grid[i]\n",
    "\n",
    "    randSearch = RandomizedSearchCV(clf, verbose=0,scoring=\"accuracy\",param_distributions=pgrid,n_iter=100,n_jobs=2,cv=rkf,refit=True)\n",
    "    \n",
    "    randSearch.fit(X_train,Y_train)\n",
    "\n",
    "    clf.fit(X_train,Y_train)\n",
    "    \n",
    "    scores[i] = randSearch.score(X_test,Y_test)\n",
    "    yh = randSearch.predict(X_test)\n",
    "\n",
    "    scores_std[i] = clf.score(X_test,Y_test)\n",
    "    yh_std = clf.predict(X_test)\n",
    "\n",
    "    Results[Res_cols[j]] = yh_std\n",
    "    Results[Res_cols[j+1]] = yh\n",
    "    \n",
    "    j = j+2\n",
    "\n",
    "    BestParams.append(randSearch.best_params_.copy())\n",
    "\n",
    "\n",
    "\n",
    "    \n",
    "\n",
    "\n"
   ]
  },
  {
   "cell_type": "markdown",
   "metadata": {},
   "source": [
    "A seguir é impressa a tabela com os resultados dos classificadores, sendo as colunas '_Opt' representantes dos modelos com os parâmetros otimizados pela random search. "
   ]
  },
  {
   "cell_type": "code",
   "execution_count": 8,
   "metadata": {},
   "outputs": [
    {
     "name": "stdout",
     "output_type": "stream",
     "text": [
      "      y  yh_LREG  yh_LREG_Opt  yh_SVC  yh_SVC_Opt  yh_KNN  yh_KNN_Opt\n",
      "0    11       11           11      11          11      11          11\n",
      "1     8        8            8       8           8       8           8\n",
      "2     3        3            3       3           3       3           3\n",
      "3    14       14           14      14          14      14          14\n",
      "4     1        1            1       1           1       1           1\n",
      "..   ..      ...          ...     ...         ...     ...         ...\n",
      "335  16       15           15      15          15      15          15\n",
      "336  16       15           16      15          16      16          15\n",
      "337  11       11           11      11          11      11          11\n",
      "338  11       11           11      11          11      11          11\n",
      "339   2        1            2       2           2       2           2\n",
      "\n",
      "[340 rows x 7 columns]\n"
     ]
    }
   ],
   "source": [
    "print(Results)"
   ]
  },
  {
   "cell_type": "markdown",
   "metadata": {},
   "source": [
    "A seguir, são apresentados os parâmetros ótimos de cada classificador para este problema. Para a logistic regression, por exemplo, os parâmetros multi_class e solver foram iguais aos do default, e o C (default = 1.0) foi de 63.\n",
    "Para o SVC, o kernel selecionado foi o mesmo do classificador padrão, rbf\n",
    "Para o kNN, o número de vizinhos selecionado foi de 4, sendo o valor default = 5. "
   ]
  },
  {
   "cell_type": "code",
   "execution_count": 9,
   "metadata": {},
   "outputs": [
    {
     "data": {
      "text/plain": [
       "[{'LREG__C': 63.81725254593122,\n",
       "  'LREG__multi_class': 'auto',\n",
       "  'LREG__solver': 'lbfgs'},\n",
       " {'SVC__C': 379.00637673798536,\n",
       "  'SVC__degree': 2,\n",
       "  'SVC__gamma': 0.5551113100958404,\n",
       "  'SVC__kernel': 'rbf'},\n",
       " {'KNN__n_neighbors': 4, 'KNN__weights': 'uniform'}]"
      ]
     },
     "execution_count": 9,
     "metadata": {},
     "output_type": "execute_result"
    }
   ],
   "source": [
    "BestParams"
   ]
  },
  {
   "cell_type": "code",
   "execution_count": 11,
   "metadata": {},
   "outputs": [
    {
     "data": {
      "text/html": [
       "<div>\n",
       "<style scoped>\n",
       "    .dataframe tbody tr th:only-of-type {\n",
       "        vertical-align: middle;\n",
       "    }\n",
       "\n",
       "    .dataframe tbody tr th {\n",
       "        vertical-align: top;\n",
       "    }\n",
       "\n",
       "    .dataframe thead th {\n",
       "        text-align: right;\n",
       "    }\n",
       "</style>\n",
       "<table border=\"1\" class=\"dataframe\">\n",
       "  <thead>\n",
       "    <tr style=\"text-align: right;\">\n",
       "      <th></th>\n",
       "      <th>Method</th>\n",
       "      <th>score_Opt</th>\n",
       "      <th>score_Std</th>\n",
       "    </tr>\n",
       "  </thead>\n",
       "  <tbody>\n",
       "    <tr>\n",
       "      <th>0</th>\n",
       "      <td>[Linear Reg]</td>\n",
       "      <td>0.944118</td>\n",
       "      <td>0.858824</td>\n",
       "    </tr>\n",
       "    <tr>\n",
       "      <th>1</th>\n",
       "      <td>[SVC]</td>\n",
       "      <td>0.952941</td>\n",
       "      <td>0.911765</td>\n",
       "    </tr>\n",
       "    <tr>\n",
       "      <th>2</th>\n",
       "      <td>[kNN]</td>\n",
       "      <td>0.911765</td>\n",
       "      <td>0.938235</td>\n",
       "    </tr>\n",
       "  </tbody>\n",
       "</table>\n",
       "</div>"
      ],
      "text/plain": [
       "         Method  score_Opt  score_Std\n",
       "0  [Linear Reg]   0.944118   0.858824\n",
       "1         [SVC]   0.952941   0.911765\n",
       "2         [kNN]   0.911765   0.938235"
      ]
     },
     "execution_count": 11,
     "metadata": {},
     "output_type": "execute_result"
    }
   ],
   "source": [
    "ScoresTableHeaders = ['Method','score_Opt','score_Std']\n",
    "\n",
    "ScoresTable =  pd.DataFrame([], columns=ScoresTableHeaders)\n",
    "\n",
    "Methods = [['Linear Reg'],['SVC'],['kNN']]\n",
    "ScoresTable[ScoresTableHeaders[0]] = Methods\n",
    "ScoresTable[ScoresTableHeaders[1]] = scores\n",
    "ScoresTable[ScoresTableHeaders[2]] = scores_std\n",
    "ScoresTable"
   ]
  },
  {
   "cell_type": "markdown",
   "metadata": {},
   "source": [
    "Como visto, a pontuação dos modelos otimizados foram superiores aos dos modelos padrão, com excessão do kNN, cujo modelo default usa N = 5, e o modelo otimizado pela random search possui N = 4\n"
   ]
  }
 ],
 "metadata": {
  "interpreter": {
   "hash": "b1cbc199116ca0050f15b4a096ee5586221393ef42f89efdf0ba89fccf25361f"
  },
  "kernelspec": {
   "display_name": "Python 3.9.7 ('base')",
   "language": "python",
   "name": "python3"
  },
  "language_info": {
   "codemirror_mode": {
    "name": "ipython",
    "version": 3
   },
   "file_extension": ".py",
   "mimetype": "text/x-python",
   "name": "python",
   "nbconvert_exporter": "python",
   "pygments_lexer": "ipython3",
   "version": "3.9.7"
  },
  "orig_nbformat": 4
 },
 "nbformat": 4,
 "nbformat_minor": 2
}
