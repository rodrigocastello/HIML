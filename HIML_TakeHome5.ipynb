{
 "cells": [
  {
   "cell_type": "code",
   "execution_count": 1,
   "metadata": {},
   "outputs": [],
   "source": [
    "import numpy as np\n",
    "from scipy import stats\n",
    "import scipy.io as sio\n",
    "from os import getcwd\n",
    "from os.path import join \n",
    "import pandas as pd\n",
    "from scipy.stats.stats import mode\n",
    "from sklearn.model_selection import (train_test_split, RepeatedKFold, RandomizedSearchCV)\n",
    "from sklearn.linear_model import Ridge\n",
    "from sklearn.pipeline import Pipeline\n",
    "from statsmodels.tsa.ar_model import AutoReg\n",
    "from sklearn.decomposition import PCA\n",
    "from sklearn.preprocessing import MinMaxScaler\n",
    "from sklearn.linear_model import LogisticRegression \n",
    "from sklearn import svm\n",
    "from sklearn import neighbors\n",
    "from sklearn.tree import DecisionTreeClassifier\n",
    "from sklearn.ensemble import RandomForestClassifier, VotingClassifier"
   ]
  },
  {
   "cell_type": "code",
   "execution_count": 2,
   "metadata": {},
   "outputs": [
    {
     "data": {
      "text/html": [
       "<div>\n",
       "<style scoped>\n",
       "    .dataframe tbody tr th:only-of-type {\n",
       "        vertical-align: middle;\n",
       "    }\n",
       "\n",
       "    .dataframe tbody tr th {\n",
       "        vertical-align: top;\n",
       "    }\n",
       "\n",
       "    .dataframe thead th {\n",
       "        text-align: right;\n",
       "    }\n",
       "</style>\n",
       "<table border=\"1\" class=\"dataframe\">\n",
       "  <thead>\n",
       "    <tr style=\"text-align: right;\">\n",
       "      <th></th>\n",
       "      <th>0</th>\n",
       "    </tr>\n",
       "  </thead>\n",
       "  <tbody>\n",
       "    <tr>\n",
       "      <th>0</th>\n",
       "      <td>8192</td>\n",
       "    </tr>\n",
       "    <tr>\n",
       "      <th>1</th>\n",
       "      <td>5</td>\n",
       "    </tr>\n",
       "    <tr>\n",
       "      <th>2</th>\n",
       "      <td>850</td>\n",
       "    </tr>\n",
       "    <tr>\n",
       "      <th>3</th>\n",
       "      <td>850</td>\n",
       "    </tr>\n",
       "  </tbody>\n",
       "</table>\n",
       "</div>"
      ],
      "text/plain": [
       "      0\n",
       "0  8192\n",
       "1     5\n",
       "2   850\n",
       "3   850"
      ]
     },
     "execution_count": 2,
     "metadata": {},
     "output_type": "execute_result"
    }
   ],
   "source": [
    "fname = join(getcwd(),'data','data3SS2009.mat')\n",
    "\n",
    "mat_contents = sio.loadmat(fname)\n",
    "\n",
    "dataset = mat_contents['dataset']\n",
    "\n",
    "N, Chno, Nc = dataset.shape\n",
    "# N: number of samples\n",
    "# Chno: number of channels\n",
    "# Nc: number of cases\n",
    "\n",
    "Y = mat_contents['labels'].reshape(Nc)\n",
    "\n",
    "# print sizes \n",
    "pd.DataFrame(np.array([N, Chno, Nc,len(Y)]))"
   ]
  },
  {
   "cell_type": "code",
   "execution_count": 3,
   "metadata": {},
   "outputs": [],
   "source": [
    "# AutoRegression\n",
    "X_ = np.empty((0, 850), float)\n",
    "for i in range(4):\n",
    "    chdata = dataset[:,i+1,:]\n",
    "    ch_corr = []\n",
    "    for j in range(np.shape(chdata)[1]):\n",
    "        res = AutoReg(chdata[:,j],lags=29,old_names=False).fit()\n",
    "        ch_corr.append(res.params)\n",
    "    \n",
    "    X_ = np.append(X_, np.array(ch_corr).transpose() , axis=0)\n",
    "X = np.transpose(X_)\n",
    "\n",
    "# np.shape(X)\n",
    "\n",
    "# pca\n",
    "pca = PCA(random_state=0, whiten=True, n_components=.95)\n",
    "X_pca = pca.fit_transform(X)\n",
    "Xpca_scaled = MinMaxScaler(feature_range=(-1,1)).fit_transform(X_pca)\n",
    "\n",
    "X_train, X_test, Y_train, Y_test = train_test_split(Xpca_scaled,Y,test_size=0.4,random_state=42)  "
   ]
  },
  {
   "cell_type": "markdown",
   "metadata": {},
   "source": [
    "# Models and hyperparameters dictionaries"
   ]
  },
  {
   "cell_type": "code",
   "execution_count": 4,
   "metadata": {},
   "outputs": [],
   "source": [
    "models = []\n",
    "models.append((\"LREG\",LogisticRegression()))\n",
    "models.append((\"SVC\",svm.SVC()))\n",
    "models.append((\"KNN\",neighbors.KNeighborsClassifier()))\n",
    "models.append((\"DTC\",DecisionTreeClassifier()))\n",
    "models.append((\"RFC\",RandomForestClassifier()))\n",
    "\n",
    "param_grid = []\n",
    "\n",
    "param_grid.append(\n",
    "    [\n",
    "        {\n",
    "            \"LREG__C\": stats.loguniform(0.1, 100),\n",
    "            \"LREG__solver\": [\"auto\",\"lbfgs\", \"liblinear\",\"saga\"],\n",
    "            \"LREG__multi_class\": [\"auto\",\"ovr\", \"multinomial\"],\n",
    "        }\n",
    "    ]\n",
    ")\n",
    "param_grid.append(\n",
    "    [\n",
    "        {\n",
    "            \"SVC__C\": stats.loguniform(0.1, 1000),\n",
    "            \"SVC__kernel\": [\"linear\", \"poly\",\"rbf\",\"sigmoid\"],\n",
    "            \"SVC__degree\": stats.randint(2,5),\n",
    "            \"SVC__gamma\": stats.loguniform(0.0001,1),\n",
    "        }\n",
    "    ]\n",
    ")\n",
    "param_grid.append(\n",
    "    [\n",
    "        {\n",
    "            \"KNN__n_neighbors\": stats.randint(2,100),\n",
    "            \"KNN__weights\": [\"uniform\", \"distance\"],\n",
    "        }\n",
    "    ]\n",
    ")\n",
    "\n",
    "param_grid.append(\n",
    "    [\n",
    "        {\n",
    "            \"DTC__criterion\": [\"gini\",\"entropy\"],\n",
    "            \"DTC__splitter\": [\"best\", \"random\"],\n",
    "            \"DTC__max_features\": stats.uniform(),\n",
    "            \"DTC__min_samples_split\": stats.randint(2,6),\n",
    "        }\n",
    "    ]\n",
    ")\n",
    "\n",
    "param_grid.append(\n",
    "    [\n",
    "        {\n",
    "            \"RFC__n_estimators\": stats.randint(2,200),\n",
    "            \"RFC__criterion\": [\"gini\", \"entropy\"],\n",
    "            \"RFC__max_features\": stats.uniform(),\n",
    "            \"RFC__max_depth\": stats.randint(2,100),\n",
    "        }\n",
    "    ]\n",
    ")"
   ]
  },
  {
   "cell_type": "markdown",
   "metadata": {},
   "source": [
    "# Hyperparameter search"
   ]
  },
  {
   "cell_type": "markdown",
   "metadata": {},
   "source": [
    "Realizando a busca aleatória com validação cruzada, guardando os resultados de yh para os classificadores padrão e para os classificadores 'otimizados'\n"
   ]
  },
  {
   "cell_type": "code",
   "execution_count": 6,
   "metadata": {},
   "outputs": [
    {
     "name": "stderr",
     "output_type": "stream",
     "text": [
      "C:\\Users\\rodri\\anaconda3\\lib\\site-packages\\sklearn\\model_selection\\_search.py:922: UserWarning: One or more of the test scores are non-finite: [0.77686275        nan        nan 0.84780392        nan        nan\n",
      " 0.78980392 0.83019608        nan        nan        nan 0.88066667\n",
      "        nan        nan 0.85247059 0.88309804        nan 0.8274902\n",
      "        nan 0.90094118        nan 0.87568627 0.86960784        nan\n",
      "        nan        nan 0.7227451  0.88              nan        nan\n",
      " 0.90321569 0.86968627 0.86039216        nan        nan 0.86890196\n",
      "        nan 0.87376471        nan 0.75701961 0.86317647        nan\n",
      " 0.78164706 0.83380392 0.78270588 0.90270588 0.7252549  0.84541176\n",
      " 0.86313725 0.85341176 0.90913725        nan 0.7854902  0.76733333\n",
      " 0.79337255        nan 0.85952941 0.89227451 0.85560784 0.8992549\n",
      "        nan 0.88388235 0.90372549        nan 0.78701961 0.87094118\n",
      " 0.8912549  0.9032549  0.70427451 0.87807843        nan 0.88294118\n",
      " 0.90698039 0.68639216 0.67435294 0.88411765        nan 0.73658824\n",
      " 0.72321569 0.90666667        nan 0.84741176 0.90917647        nan\n",
      "        nan 0.89694118 0.8554902         nan 0.7992549  0.85627451\n",
      " 0.90078431        nan 0.88576471 0.884      0.76043137        nan\n",
      " 0.74227451 0.76419608        nan 0.87807843]\n",
      "  warnings.warn(\n",
      "C:\\Users\\rodri\\anaconda3\\lib\\site-packages\\sklearn\\linear_model\\_logistic.py:763: ConvergenceWarning: lbfgs failed to converge (status=1):\n",
      "STOP: TOTAL NO. of ITERATIONS REACHED LIMIT.\n",
      "\n",
      "Increase the number of iterations (max_iter) or scale the data as shown in:\n",
      "    https://scikit-learn.org/stable/modules/preprocessing.html\n",
      "Please also refer to the documentation for alternative solver options:\n",
      "    https://scikit-learn.org/stable/modules/linear_model.html#logistic-regression\n",
      "  n_iter_i = _check_optimize_result(\n"
     ]
    }
   ],
   "source": [
    "rkf = RepeatedKFold(n_splits=5,n_repeats=50,random_state=42)\n",
    "scores = np.zeros((np.shape(models)[0],1))\n",
    "scores_std = np.zeros((np.shape(models)[0],1))\n",
    "\n",
    "Res_cols = ['y','yh_LREG','yh_LREG_Opt','yh_SVC','yh_SVC_Opt','yh_KNN','yh_KNN_Opt','y_DTC','yh_DTC_Opt','yh_RFC','yh_RFC_Opt']\n",
    "Results =  pd.DataFrame([], columns=Res_cols)\n",
    "Results['y'] = Y_test\n",
    "\n",
    "BestParams = []\n",
    "\n",
    "j = 1\n",
    "for i in range(len(models)):\n",
    "    clf=Pipeline([models[i]])\n",
    "    pgrid = param_grid[i]\n",
    "\n",
    "    randSearch = RandomizedSearchCV(clf, verbose=0,scoring=\"accuracy\",param_distributions=pgrid,n_iter=100,n_jobs=2,cv=rkf,refit=True)\n",
    "    \n",
    "    randSearch.fit(X_train,Y_train)\n",
    "\n",
    "    clf.fit(X_train,Y_train)\n",
    "    \n",
    "    scores[i] = randSearch.score(X_test,Y_test)\n",
    "    yh = randSearch.predict(X_test)\n",
    "\n",
    "    scores_std[i] = clf.score(X_test,Y_test)\n",
    "    yh_std = clf.predict(X_test)\n",
    "\n",
    "    Results[Res_cols[j]] = yh_std\n",
    "    Results[Res_cols[j+1]] = yh\n",
    "    \n",
    "    j = j+2\n",
    "\n",
    "    BestParams.append(randSearch.best_params_.copy())\n",
    "\n",
    "\n",
    "\n",
    "    \n",
    "\n",
    "\n"
   ]
  },
  {
   "cell_type": "markdown",
   "metadata": {},
   "source": [
    "A seguir é impressa a tabela com os resultados dos classificadores, sendo as colunas '_Opt' representantes dos modelos com os parâmetros otimizados pela random search. "
   ]
  },
  {
   "cell_type": "code",
   "execution_count": 7,
   "metadata": {},
   "outputs": [
    {
     "name": "stdout",
     "output_type": "stream",
     "text": [
      "      y  yh_LREG  yh_LREG_Opt  yh_SVC  yh_SVC_Opt  yh_KNN  yh_KNN_Opt  y_DTC  \\\n",
      "0    11       11           11      11          11      11          11     11   \n",
      "1     8        8            8       8           8       8           8      8   \n",
      "2     3        3            3       3           3       3           3      3   \n",
      "3    14       14           14      14          14      14          14     14   \n",
      "4     1        1            1       1           1       1           1      1   \n",
      "..   ..      ...          ...     ...         ...     ...         ...    ...   \n",
      "335  16       15           15      15          15      15          15     16   \n",
      "336  16       15           16      15          16      16          15     16   \n",
      "337  11       11           11      11          11      11          11     11   \n",
      "338  11       11           11      11          11      11          11     11   \n",
      "339   2        1            2       2           2       2           2      2   \n",
      "\n",
      "     yh_DTC_Opt  yh_RFC  yh_RFC_Opt  \n",
      "0            11      11          11  \n",
      "1             8       8           8  \n",
      "2             3       3           3  \n",
      "3            14      14          14  \n",
      "4             1       1           1  \n",
      "..          ...     ...         ...  \n",
      "335          16      15          15  \n",
      "336          16      16          16  \n",
      "337          11      11          11  \n",
      "338          11      11          11  \n",
      "339           2       2           2  \n",
      "\n",
      "[340 rows x 11 columns]\n"
     ]
    }
   ],
   "source": [
    "print(Results)"
   ]
  },
  {
   "cell_type": "markdown",
   "metadata": {},
   "source": [
    "A seguir, são apresentados os parâmetros ótimos de cada classificador para este problema. Para a logistic regression, por exemplo, os parâmetros multi_class e solver foram iguais aos do default, e o C (default = 1.0) foi de 63. <br>\n",
    "Para o SVC, o kernel selecionado foi o mesmo do classificador padrão, rbf  <br>\n",
    "Para o kNN, o número de vizinhos selecionado foi de 4, sendo o valor default = 5.  <br>\n",
    "Para o decision tree classifier, o número mínimo de amostrar para a separação dos nós é de 4 <br>\n",
    "Para o random forest classifier, o número de estimadores ótimo foi de 191 <br>"
   ]
  },
  {
   "cell_type": "code",
   "execution_count": 8,
   "metadata": {},
   "outputs": [
    {
     "data": {
      "text/plain": [
       "[{'LREG__C': 56.27135342945326,\n",
       "  'LREG__multi_class': 'auto',\n",
       "  'LREG__solver': 'lbfgs'},\n",
       " {'SVC__C': 390.61839350657897,\n",
       "  'SVC__degree': 2,\n",
       "  'SVC__gamma': 0.2967998882031199,\n",
       "  'SVC__kernel': 'rbf'},\n",
       " {'KNN__n_neighbors': 4, 'KNN__weights': 'uniform'},\n",
       " {'DTC__criterion': 'entropy',\n",
       "  'DTC__max_features': 0.9744587727411228,\n",
       "  'DTC__min_samples_split': 4,\n",
       "  'DTC__splitter': 'best'},\n",
       " {'RFC__criterion': 'gini',\n",
       "  'RFC__max_depth': 50,\n",
       "  'RFC__max_features': 0.5544000835685161,\n",
       "  'RFC__n_estimators': 191}]"
      ]
     },
     "execution_count": 8,
     "metadata": {},
     "output_type": "execute_result"
    }
   ],
   "source": [
    "BestParams"
   ]
  },
  {
   "cell_type": "code",
   "execution_count": 10,
   "metadata": {},
   "outputs": [
    {
     "data": {
      "text/html": [
       "<div>\n",
       "<style scoped>\n",
       "    .dataframe tbody tr th:only-of-type {\n",
       "        vertical-align: middle;\n",
       "    }\n",
       "\n",
       "    .dataframe tbody tr th {\n",
       "        vertical-align: top;\n",
       "    }\n",
       "\n",
       "    .dataframe thead th {\n",
       "        text-align: right;\n",
       "    }\n",
       "</style>\n",
       "<table border=\"1\" class=\"dataframe\">\n",
       "  <thead>\n",
       "    <tr style=\"text-align: right;\">\n",
       "      <th></th>\n",
       "      <th>Method</th>\n",
       "      <th>score_Opt</th>\n",
       "      <th>score_Std</th>\n",
       "    </tr>\n",
       "  </thead>\n",
       "  <tbody>\n",
       "    <tr>\n",
       "      <th>0</th>\n",
       "      <td>[Linear Reg]</td>\n",
       "      <td>0.944118</td>\n",
       "      <td>0.858824</td>\n",
       "    </tr>\n",
       "    <tr>\n",
       "      <th>1</th>\n",
       "      <td>[SVC]</td>\n",
       "      <td>0.950000</td>\n",
       "      <td>0.911765</td>\n",
       "    </tr>\n",
       "    <tr>\n",
       "      <th>2</th>\n",
       "      <td>[kNN]</td>\n",
       "      <td>0.911765</td>\n",
       "      <td>0.938235</td>\n",
       "    </tr>\n",
       "    <tr>\n",
       "      <th>3</th>\n",
       "      <td>[DTC]</td>\n",
       "      <td>0.888235</td>\n",
       "      <td>0.876471</td>\n",
       "    </tr>\n",
       "    <tr>\n",
       "      <th>4</th>\n",
       "      <td>[RFC]</td>\n",
       "      <td>0.929412</td>\n",
       "      <td>0.926471</td>\n",
       "    </tr>\n",
       "  </tbody>\n",
       "</table>\n",
       "</div>"
      ],
      "text/plain": [
       "         Method  score_Opt  score_Std\n",
       "0  [Linear Reg]   0.944118   0.858824\n",
       "1         [SVC]   0.950000   0.911765\n",
       "2         [kNN]   0.911765   0.938235\n",
       "3         [DTC]   0.888235   0.876471\n",
       "4         [RFC]   0.929412   0.926471"
      ]
     },
     "execution_count": 10,
     "metadata": {},
     "output_type": "execute_result"
    }
   ],
   "source": [
    "ScoresTableHeaders = ['Method','score_Opt','score_Std']\n",
    "\n",
    "ScoresTable =  pd.DataFrame([], columns=ScoresTableHeaders)\n",
    "\n",
    "Methods = [['Linear Reg'],['SVC'],['kNN'],['DTC'],['RFC']]\n",
    "ScoresTable[ScoresTableHeaders[0]] = Methods\n",
    "ScoresTable[ScoresTableHeaders[1]] = scores\n",
    "ScoresTable[ScoresTableHeaders[2]] = scores_std\n",
    "ScoresTable"
   ]
  },
  {
   "cell_type": "markdown",
   "metadata": {},
   "source": [
    "Como visto, a pontuação dos modelos otimizados foram superiores aos dos modelos padrão, com excessão do kNN, cujo modelo default usa N = 5, e o modelo otimizado pela random search possui N = 4\n"
   ]
  }
 ],
 "metadata": {
  "interpreter": {
   "hash": "b1cbc199116ca0050f15b4a096ee5586221393ef42f89efdf0ba89fccf25361f"
  },
  "kernelspec": {
   "display_name": "Python 3.9.7 ('base')",
   "language": "python",
   "name": "python3"
  },
  "language_info": {
   "codemirror_mode": {
    "name": "ipython",
    "version": 3
   },
   "file_extension": ".py",
   "mimetype": "text/x-python",
   "name": "python",
   "nbconvert_exporter": "python",
   "pygments_lexer": "ipython3",
   "version": "3.9.7"
  },
  "orig_nbformat": 4
 },
 "nbformat": 4,
 "nbformat_minor": 2
}
