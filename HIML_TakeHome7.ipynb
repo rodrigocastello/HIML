{
 "cells": [
  {
   "cell_type": "code",
   "execution_count": 42,
   "metadata": {},
   "outputs": [],
   "source": [
    "import numpy as np\n",
    "from scipy import stats\n",
    "import scipy.io as sio\n",
    "from os import getcwd\n",
    "from os.path import join \n",
    "import pandas as pd\n",
    "from scipy.stats.stats import mode\n",
    "from sklearn.model_selection import (train_test_split, RepeatedKFold, RandomizedSearchCV)\n",
    "from sklearn.linear_model import Ridge\n",
    "from sklearn.pipeline import Pipeline\n",
    "from statsmodels.tsa.ar_model import AutoReg\n",
    "from sklearn.decomposition import PCA\n",
    "from sklearn.preprocessing import MinMaxScaler\n",
    "from sklearn.linear_model import LogisticRegression \n",
    "from sklearn import svm\n",
    "from sklearn import neighbors\n",
    "import tensorflow as ts\n",
    "from tensorflow.keras import layers   \n",
    "from tensorflow import keras"
   ]
  },
  {
   "cell_type": "code",
   "execution_count": 18,
   "metadata": {},
   "outputs": [
    {
     "data": {
      "text/html": [
       "<div>\n",
       "<style scoped>\n",
       "    .dataframe tbody tr th:only-of-type {\n",
       "        vertical-align: middle;\n",
       "    }\n",
       "\n",
       "    .dataframe tbody tr th {\n",
       "        vertical-align: top;\n",
       "    }\n",
       "\n",
       "    .dataframe thead th {\n",
       "        text-align: right;\n",
       "    }\n",
       "</style>\n",
       "<table border=\"1\" class=\"dataframe\">\n",
       "  <thead>\n",
       "    <tr style=\"text-align: right;\">\n",
       "      <th></th>\n",
       "      <th>0</th>\n",
       "    </tr>\n",
       "  </thead>\n",
       "  <tbody>\n",
       "    <tr>\n",
       "      <th>0</th>\n",
       "      <td>8192</td>\n",
       "    </tr>\n",
       "    <tr>\n",
       "      <th>1</th>\n",
       "      <td>5</td>\n",
       "    </tr>\n",
       "    <tr>\n",
       "      <th>2</th>\n",
       "      <td>850</td>\n",
       "    </tr>\n",
       "    <tr>\n",
       "      <th>3</th>\n",
       "      <td>850</td>\n",
       "    </tr>\n",
       "  </tbody>\n",
       "</table>\n",
       "</div>"
      ],
      "text/plain": [
       "      0\n",
       "0  8192\n",
       "1     5\n",
       "2   850\n",
       "3   850"
      ]
     },
     "execution_count": 18,
     "metadata": {},
     "output_type": "execute_result"
    }
   ],
   "source": [
    "fname = join(getcwd(),'data','data3SS2009.mat')\n",
    "\n",
    "mat_contents = sio.loadmat(fname)\n",
    "\n",
    "dataset = mat_contents['dataset']\n",
    "\n",
    "N, Chno, Nc = dataset.shape\n",
    "# N: number of samples\n",
    "# Chno: number of channels\n",
    "# Nc: number of cases\n",
    "\n",
    "Y = mat_contents['labels'].reshape(Nc)\n",
    "\n",
    "# print sizes \n",
    "pd.DataFrame(np.array([N, Chno, Nc,len(Y)]))"
   ]
  },
  {
   "cell_type": "code",
   "execution_count": null,
   "metadata": {},
   "outputs": [],
   "source": [
    "# AutoRegression\n",
    "X_ = np.empty((0, 850), float)\n",
    "for i in range(4):\n",
    "    chdata = dataset[:,i+1,:]\n",
    "    ch_corr = []\n",
    "    for j in range(np.shape(chdata)[1]):\n",
    "        res = AutoReg(chdata[:,j],lags=29,old_names=False).fit()\n",
    "        ch_corr.append(res.params)\n",
    "    \n",
    "    X_ = np.append(X_, np.array(ch_corr).transpose() , axis=0)\n",
    "X = np.transpose(X_)\n",
    "\n",
    "# np.shape(X)\n",
    "\n",
    "# pca\n",
    "pca = PCA(random_state=0, whiten=True, n_components=.95)\n",
    "X_pca = pca.fit_transform(X)\n",
    "Xpca_scaled = MinMaxScaler(feature_range=(-1,1)).fit_transform(X_pca)\n",
    "\n"
   ]
  },
  {
   "cell_type": "markdown",
   "metadata": {},
   "source": [
    "# Setting the data"
   ]
  },
  {
   "cell_type": "code",
   "execution_count": 78,
   "metadata": {},
   "outputs": [],
   "source": [
    "# convert class vectors to binary class matrices\n",
    "\n",
    "# classes from 0-16 instead of 1-17\n",
    "Yc = Y - np.ones(np.shape(Y))\n",
    "X_train, X_test, Y_train, Y_test = train_test_split(Xpca_scaled,Yc,test_size=0.4,random_state=42)  \n",
    "y_train = keras.utils.to_categorical(Y_train, num_classes=17)\n",
    "y_test = keras.utils.to_categorical(Y_test, num_classes=17)"
   ]
  },
  {
   "cell_type": "markdown",
   "metadata": {},
   "source": [
    "# Defining & training the Artificial Neural Net"
   ]
  },
  {
   "cell_type": "code",
   "execution_count": 81,
   "metadata": {},
   "outputs": [
    {
     "name": "stdout",
     "output_type": "stream",
     "text": [
      "Model: \"sequential_35\"\n",
      "_________________________________________________________________\n",
      " Layer (type)                Output Shape              Param #   \n",
      "=================================================================\n",
      " dense_101 (Dense)           (None, 8)                 56        \n",
      "                                                                 \n",
      " dense_102 (Dense)           (None, 14)                126       \n",
      "                                                                 \n",
      " dense_103 (Dense)           (None, 17)                255       \n",
      "                                                                 \n",
      "=================================================================\n",
      "Total params: 437\n",
      "Trainable params: 437\n",
      "Non-trainable params: 0\n",
      "_________________________________________________________________\n",
      "Epoch 1/14\n",
      "15/15 [==============================] - 1s 13ms/step - loss: 2.5287 - accuracy: 0.2244 - val_loss: 2.1154 - val_accuracy: 0.2941\n",
      "Epoch 2/14\n",
      "15/15 [==============================] - 0s 4ms/step - loss: 1.7809 - accuracy: 0.5142 - val_loss: 1.4122 - val_accuracy: 0.6078\n",
      "Epoch 3/14\n",
      "15/15 [==============================] - 0s 5ms/step - loss: 1.1423 - accuracy: 0.6950 - val_loss: 0.9372 - val_accuracy: 0.7647\n",
      "Epoch 4/14\n",
      "15/15 [==============================] - 0s 5ms/step - loss: 0.7341 - accuracy: 0.8039 - val_loss: 0.7135 - val_accuracy: 0.8039\n",
      "Epoch 5/14\n",
      "15/15 [==============================] - 0s 4ms/step - loss: 0.5305 - accuracy: 0.8584 - val_loss: 0.5157 - val_accuracy: 0.9020\n",
      "Epoch 6/14\n",
      "15/15 [==============================] - 0s 4ms/step - loss: 0.4171 - accuracy: 0.8671 - val_loss: 0.4972 - val_accuracy: 0.8431\n",
      "Epoch 7/14\n",
      "15/15 [==============================] - 0s 4ms/step - loss: 0.3563 - accuracy: 0.8954 - val_loss: 0.4632 - val_accuracy: 0.8824\n",
      "Epoch 8/14\n",
      "15/15 [==============================] - 0s 4ms/step - loss: 0.3183 - accuracy: 0.8824 - val_loss: 0.4077 - val_accuracy: 0.9020\n",
      "Epoch 9/14\n",
      "15/15 [==============================] - 0s 4ms/step - loss: 0.2937 - accuracy: 0.8824 - val_loss: 0.3844 - val_accuracy: 0.8824\n",
      "Epoch 10/14\n",
      "15/15 [==============================] - 0s 4ms/step - loss: 0.2815 - accuracy: 0.8976 - val_loss: 0.3941 - val_accuracy: 0.8824\n",
      "Epoch 11/14\n",
      "15/15 [==============================] - 0s 4ms/step - loss: 0.2716 - accuracy: 0.8954 - val_loss: 0.4199 - val_accuracy: 0.8627\n",
      "Epoch 12/14\n",
      "15/15 [==============================] - 0s 3ms/step - loss: 0.2555 - accuracy: 0.9041 - val_loss: 0.3645 - val_accuracy: 0.9216\n",
      "Epoch 13/14\n",
      "15/15 [==============================] - 0s 4ms/step - loss: 0.2558 - accuracy: 0.8802 - val_loss: 0.3775 - val_accuracy: 0.8824\n",
      "Epoch 14/14\n",
      "15/15 [==============================] - 0s 3ms/step - loss: 0.2484 - accuracy: 0.8976 - val_loss: 0.3182 - val_accuracy: 0.9216\n"
     ]
    },
    {
     "data": {
      "text/plain": [
       "<keras.callbacks.History at 0x1d0ffd98e50>"
      ]
     },
     "execution_count": 81,
     "metadata": {},
     "output_type": "execute_result"
    }
   ],
   "source": [
    "# FEEDFORWARD MODEL\n",
    "# model = ks.Sequential([\n",
    "#   layers.Flatten(input_shape=np.shape(Xpca_scaled)[1]),\n",
    "#   layers.Dense(32, activation='relu'),\n",
    "#   layers.Dense(17, activation=\"softmax\")\n",
    "# ])\n",
    "\n",
    "model = keras.Sequential([\n",
    "  layers.Dense(8, input_shape=(np.shape(Xpca_scaled)[1],)),\n",
    "  layers.Dense(14),\n",
    "  layers.Dense(17, activation=\"softmax\")\n",
    "])\n",
    "\n",
    "model.summary()\n",
    "\n",
    "model.compile(\n",
    "    optimizer=keras.optimizers.Adam(0.01),\n",
    "    loss=\"categorical_crossentropy\",\n",
    "    metrics=[\"accuracy\"],\n",
    ")\n",
    "\n",
    "model.fit(\n",
    "    X_train, \n",
    "    y_train,\n",
    "    epochs=14,\n",
    "    validation_split=0.1,\n",
    ")"
   ]
  },
  {
   "cell_type": "markdown",
   "metadata": {},
   "source": [
    "# Evaluating the model with the test data"
   ]
  },
  {
   "cell_type": "code",
   "execution_count": 82,
   "metadata": {},
   "outputs": [
    {
     "name": "stdout",
     "output_type": "stream",
     "text": [
      "11/11 [==============================] - 0s 997us/step - loss: 0.1885 - accuracy: 0.9412\n",
      "Test loss: 0.18853674829006195\n",
      "Test accuracy: 0.9411764740943909\n"
     ]
    }
   ],
   "source": [
    "score = model.evaluate(X_test, y_test, verbose=1)\n",
    "print(\"Test loss:\", score[0])\n",
    "print(\"Test accuracy:\", score[1])"
   ]
  },
  {
   "cell_type": "markdown",
   "metadata": {},
   "source": [
    "# Comparison with other models\n",
    "\n",
    "Do exercício takehome5, temos os scores dos diversos métodos avaliados no curso\n",
    "\n",
    "LReg - 0.944118 <br />\n",
    "SVC  - 0.950000 <br />\n",
    "kNN  - 0.911765 <br />\n",
    "DTC  - 0.888235 <br />\n",
    "RFC  - 0.929412 <br />\n",
    "ANN  - 0.941176 <br />\n",
    "\n",
    "Para os parâmetros utilizados, a ANN teve uma pior performance do que a classificação por regressão linear e SVC"
   ]
  }
 ],
 "metadata": {
  "interpreter": {
   "hash": "8e7af5626c7e654314ce176c299bd4d61dd6a36e86a9674195997ac339225326"
  },
  "kernelspec": {
   "display_name": "Python 3.9.7 ('base')",
   "language": "python",
   "name": "python3"
  },
  "language_info": {
   "codemirror_mode": {
    "name": "ipython",
    "version": 3
   },
   "file_extension": ".py",
   "mimetype": "text/x-python",
   "name": "python",
   "nbconvert_exporter": "python",
   "pygments_lexer": "ipython3",
   "version": "3.9.7"
  },
  "orig_nbformat": 4
 },
 "nbformat": 4,
 "nbformat_minor": 2
}
